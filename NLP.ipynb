{
  "nbformat": 4,
  "nbformat_minor": 0,
  "metadata": {
    "colab": {
      "provenance": [],
      "authorship_tag": "ABX9TyO/aY24AwoVgrZzAGavc7gc",
      "include_colab_link": true
    },
    "kernelspec": {
      "name": "python3",
      "display_name": "Python 3"
    },
    "language_info": {
      "name": "python"
    }
  },
  "cells": [
    {
      "cell_type": "markdown",
      "metadata": {
        "id": "view-in-github",
        "colab_type": "text"
      },
      "source": [
        "<a href=\"https://colab.research.google.com/github/Sanjeev00001/Natural-Language-Processing/blob/main/NLP.ipynb\" target=\"_parent\"><img src=\"https://colab.research.google.com/assets/colab-badge.svg\" alt=\"Open In Colab\"/></a>"
      ]
    },
    {
      "cell_type": "code",
      "execution_count": null,
      "metadata": {
        "id": "oAqKCdrR_vpB"
      },
      "outputs": [],
      "source": [
        "import numpy as np\n",
        "#import nltk\n",
        "import re\n",
        "from nltk.corpus import stopwords\n",
        "from nltk.stem import PorterStemmer\n",
        "from sklearn.model_selection import train_test_split\n",
        "\n",
        "from sklearn.metrics import accuracy_score\n",
        "from collections import Counter\n",
        "import math\n",
        "#nltk.dowload(stopword)"
      ]
    },
    {
      "cell_type": "code",
      "source": [
        "#Step 1: Dummy dataset\n",
        "texts = [\"I love this product\",\\\n",
        "         \"I hate this product\", \"This is best product\",\\\n",
        "         \"This is the wrost product\"]\n",
        "sentiments = [1, 0, 1, 0]\n"
      ],
      "metadata": {
        "id": "lGZ-72QfCBV_"
      },
      "execution_count": null,
      "outputs": []
    },
    {
      "cell_type": "code",
      "source": [
        "# step 2: preprocess the data\n",
        "def preprocess(text):\n",
        "  text = text.lower()\n",
        "  text = re.sub(r'\\w',' ', text)\n",
        "  words = text.split()\n",
        "  words = [word for word in words if word not in stopwords.words('english')]\n",
        "  ps = PorterStemmer()\n",
        "  words = [ps.stem(word) for word in words]\n",
        "  return words\n",
        "print(texts)\n",
        "processed_texts = [preprocess(text) for text in texts]\n",
        "print(processed_texts)"
      ],
      "metadata": {
        "colab": {
          "base_uri": "https://localhost:8080/"
        },
        "id": "oA3XI8hdGUjr",
        "outputId": "44631855-0282-4d50-ca96-ac877d276264"
      },
      "execution_count": null,
      "outputs": [
        {
          "output_type": "stream",
          "name": "stdout",
          "text": [
            "['I love this product', 'I hate this product', 'This is best product', 'This is the wrost product']\n",
            "[[], [], [], []]\n"
          ]
        }
      ]
    },
    {
      "cell_type": "code",
      "source": [
        "#step 3 : Feature extraction -  Bag of words\n",
        "def create_bag_of_words(processed_text):\n",
        "\n",
        "  all_words = sum (processed_text, [])\n",
        "                   bag = Counter(all_words)\n",
        "                   return bag.keys()\n",
        "vocab = creste_bag_of_words(processed_texts)\n",
        "print(vocab)\n"
      ],
      "metadata": {
        "id": "Bzxv5WaKNHbA"
      },
      "execution_count": null,
      "outputs": []
    },
    {
      "cell_type": "code",
      "source": [
        "# text to vector\n",
        "def text_to_vector(Text,vocab):\n",
        "  text_counts = Counter(text)\n",
        "  return[text_counts.get(eord,0) for word in vocab]\n",
        "features = np.array([text_to_vector(text,vocab) for text in processec_texts])\n",
        "print(features)\n"
      ],
      "metadata": {
        "id": "IzlDItmrRqYL"
      },
      "execution_count": null,
      "outputs": []
    },
    {
      "cell_type": "code",
      "source": [
        "# Step 4: create target variables\n",
        "labels = np.array(sentiments)"
      ],
      "metadata": {
        "id": "LKTsT1KKSzxT"
      },
      "execution_count": null,
      "outputs": []
    },
    {
      "cell_type": "code",
      "source": [
        "# step 5 : split the dataset\n",
        "X_train, X_test, Y_train, Y_test = train_test_split(features, labels, test_sized=0.25, random_state=42)\n",
        "print(X_train,Y_train,X_test,Y_test)\n"
      ],
      "metadata": {
        "id": "yf5rTKthTGMf"
      },
      "execution_count": null,
      "outputs": []
    },
    {
      "cell_type": "code",
      "source": [
        "# step 6: Initializze Parameters\n",
        "weights = np.zeros(x_train.shape[1])\n",
        "bias = 0"
      ],
      "metadata": {
        "id": "T3k64J2qT9BA"
      },
      "execution_count": null,
      "outputs": []
    },
    {
      "cell_type": "code",
      "source": [
        "# step 7 : Definr  the Sigmoid Function\n",
        "def sigmoid(z):\n",
        "  retuen 1/(1 + np.exp(-z))"
      ],
      "metadata": {
        "id": "8qqnmQFqUPT4"
      },
      "execution_count": null,
      "outputs": []
    },
    {
      "cell_type": "code",
      "source": [
        "# step 8 & 9 : Compute prediction and calculate loss\n",
        "def compute_loss(y,y_hat):\n",
        "  m = y.shape[0]\n",
        "  return -(1/m)*np.sum(y*np.log(y_hat) + (1-y)*np.log(1-y_hat))"
      ],
      "metadata": {
        "id": "6BVGrIgHUfOo"
      },
      "execution_count": null,
      "outputs": []
    },
    {
      "cell_type": "markdown",
      "source": [],
      "metadata": {
        "id": "8lE7pgLQRoeK"
      }
    }
  ]
}